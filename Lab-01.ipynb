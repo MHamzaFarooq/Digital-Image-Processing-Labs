{
 "cells": [
  {
   "cell_type": "markdown",
   "metadata": {},
   "source": [
    "# Simple Addition"
   ]
  },
  {
   "cell_type": "code",
   "execution_count": 10,
   "metadata": {},
   "outputs": [
    {
     "name": "stdout",
     "output_type": "stream",
     "text": [
      "[2, 4, 6]\n",
      "[6, 10, 4]\n",
      "[16, 10, 8]\n"
     ]
    }
   ],
   "source": [
    "x = [\n",
    "    [1,2,3],\n",
    "    [3,5,2],\n",
    "    [8,5,4]\n",
    "]\n",
    "\n",
    "y = [\n",
    "    [1,2,3],\n",
    "    [3,5,2],\n",
    "    [8,5,4]\n",
    "]\n",
    "\n",
    "result = [\n",
    "    [0,0,0],\n",
    "    [0,0,0],\n",
    "    [0,0,0]\n",
    "]\n",
    "\n",
    "for i in range(len(x)):\n",
    "    for j in range(len(x[0])):\n",
    "        result[i][j] = x[i][j] + y[i][j]\n",
    "\n",
    "for r in result:\n",
    "    print(r)"
   ]
  },
  {
   "cell_type": "markdown",
   "metadata": {},
   "source": [
    "# Taking info from user for addition"
   ]
  },
  {
   "cell_type": "code",
   "execution_count": 14,
   "metadata": {},
   "outputs": [
    {
     "name": "stdout",
     "output_type": "stream",
     "text": [
      "\n",
      "Enter the elements of the first matrix:\n",
      "\n",
      "Enter the elements of the second matrix:\n",
      "\n",
      "The resulting matrix after addition is:\n",
      "[2, 4, 6]\n",
      "[2, 4, 6]\n",
      "[2, 4, 6]\n"
     ]
    }
   ],
   "source": [
    "rows = int(input(\"Enter the number of rows for the matrices: \"))\n",
    "cols = int(input(\"Enter the number of columns for the matrices: \"))\n",
    "\n",
    "x = []\n",
    "y = []\n",
    "\n",
    "print(\"\\nEnter the elements of the first matrix:\")\n",
    "\n",
    "for i in range(rows):\n",
    "    row = list(map(int, input(f\"Enter row {i + 1} (separated by spaces): \").split()))\n",
    "    x.append(row)\n",
    "\n",
    "print(\"\\nEnter the elements of the second matrix:\")\n",
    "for i in range(rows):\n",
    "    row = list(map(int, input(f\"Enter row {i + 1} (separated by spaces): \").split()))\n",
    "    y.append(row)\n",
    "\n",
    "if len(x) == len(y) and len(x[0]) == len(y[0]):\n",
    "    result_matrix = []\n",
    "\n",
    "    for i in range(rows):\n",
    "        result_row = []\n",
    "        for j in range(cols):\n",
    "            result_row.append(x[i][j] + y[i][j])\n",
    "        result_matrix.append(result_row)\n",
    "\n",
    "    print(\"\\nThe resulting matrix after addition is:\")\n",
    "    for row in result_matrix:\n",
    "        print(row)\n",
    "\n",
    "else:\n",
    "    print(\"Error: The matrices must have the same dimensions to be added.\")\n"
   ]
  },
  {
   "cell_type": "markdown",
   "metadata": {},
   "source": [
    "# Simple Multiplication"
   ]
  },
  {
   "cell_type": "code",
   "execution_count": 16,
   "metadata": {},
   "outputs": [
    {
     "name": "stdout",
     "output_type": "stream",
     "text": [
      "[31, 27, 19]\n",
      "[34, 41, 27]\n",
      "[55, 61, 50]\n"
     ]
    }
   ],
   "source": [
    "x = [\n",
    "    [1,2,3],\n",
    "    [3,5,2],\n",
    "    [8,5,4]\n",
    "]\n",
    "\n",
    "y = [\n",
    "    [1,2,3],\n",
    "    [3,5,2],\n",
    "    [8,5,4]\n",
    "]\n",
    "\n",
    "result = [\n",
    "    [0,0,0],\n",
    "    [0,0,0],\n",
    "    [0,0,0]\n",
    "]\n",
    "\n",
    "for i in range(len(x)):\n",
    "    for j in range(len(y[0])):\n",
    "        for k in range(len(y)):\n",
    "            result[i][j] += x[i][k]*y[k][j]\n",
    "\n",
    "for r in result:\n",
    "    print(r)"
   ]
  },
  {
   "cell_type": "markdown",
   "metadata": {},
   "source": [
    "# Asking info from user for multiplication"
   ]
  },
  {
   "cell_type": "code",
   "execution_count": 19,
   "metadata": {},
   "outputs": [
    {
     "name": "stdout",
     "output_type": "stream",
     "text": [
      "\n",
      "Enter the elements of the first matrix:\n",
      "\n",
      "Enter the elements of the second matrix:\n",
      "\n",
      "The resulting matrix after multiplication is:\n",
      "[6, 12, 18]\n",
      "[6, 12, 18]\n",
      "[6, 12, 18]\n"
     ]
    }
   ],
   "source": [
    "rows = int(input(\"Enter the number of rows for the matrices: \"))\n",
    "cols = int(input(\"Enter the number of columns for the matrices: \"))\n",
    "\n",
    "x = []\n",
    "y = []\n",
    "\n",
    "print(\"\\nEnter the elements of the first matrix:\")\n",
    "for i in range(rows):\n",
    "    row = list(map(int, input(f\"Enter row {i + 1} (separated by spaces): \").split()))\n",
    "    x.append(row)\n",
    "\n",
    "print(\"\\nEnter the elements of the second matrix:\")\n",
    "for i in range(rows):\n",
    "    row = list(map(int, input(f\"Enter row {i + 1} (separated by spaces): \").split()))\n",
    "    y.append(row)\n",
    "\n",
    "result = [[0 for _ in range(cols)] for _ in range(rows)]\n",
    "\n",
    "for i in range(len(x)):\n",
    "    for j in range(len(y[0])):\n",
    "        for k in range(len(y)):\n",
    "            result[i][j] += x[i][k] * y[k][j]\n",
    "\n",
    "print(\"\\nThe resulting matrix after multiplication is:\")\n",
    "for r in result:\n",
    "    print(r)"
   ]
  },
  {
   "cell_type": "code",
   "execution_count": null,
   "metadata": {},
   "outputs": [],
   "source": []
  }
 ],
 "metadata": {
  "kernelspec": {
   "display_name": "Python 3",
   "language": "python",
   "name": "python3"
  },
  "language_info": {
   "codemirror_mode": {
    "name": "ipython",
    "version": 3
   },
   "file_extension": ".py",
   "mimetype": "text/x-python",
   "name": "python",
   "nbconvert_exporter": "python",
   "pygments_lexer": "ipython3",
   "version": "3.11.7"
  }
 },
 "nbformat": 4,
 "nbformat_minor": 2
}
