{
 "cells": [
  {
   "cell_type": "markdown",
   "metadata": {},
   "source": [
    "Muhammad Hamza Farooq\n",
    "01-134212-117\n",
    "BSCS - 7B"
   ]
  },
  {
   "cell_type": "code",
   "execution_count": 16,
   "metadata": {},
   "outputs": [],
   "source": [
    "import cv2\n",
    "import numpy as np\n",
    "\n",
    "subject = cv2.imread(\"catTransparent.jpg\")\n",
    "background = cv2.imread(\"hellBackground.jpg\")\n",
    "\n",
    "# resizing to match the images\n",
    "frame = cv2.resize(subject, (640, 480))\n",
    "image = cv2.resize(background, (640, 480))\n",
    "\n",
    "# adjusted green color range\n",
    "lower_green = np.array([35, 40, 40])\n",
    "upper_green = np.array([85, 255, 255])\n",
    "\n",
    "# Converting the frame to HSV color space for better color detection\n",
    "hsv = cv2.cvtColor(frame, cv2.COLOR_BGR2HSV)\n",
    "mask = cv2.inRange(hsv, lower_green, upper_green)\n",
    "\n",
    "# Improve the mask using morphological operations\n",
    "mask = cv2.morphologyEx(mask, cv2.MORPH_OPEN, np.ones((3, 3), np.uint8))\n",
    "mask = cv2.morphologyEx(mask, cv2.MORPH_DILATE, np.ones((3, 3), np.uint8))\n",
    "\n",
    "# Create the inverse mask\n",
    "mask_inv = cv2.bitwise_not(mask)\n",
    "\n",
    "# Use the mask to extract the foreground (original frame) and the background (replacement image)\n",
    "fg = cv2.bitwise_and(frame, frame, mask=mask_inv)\n",
    "bg = cv2.bitwise_and(image, image, mask=mask)\n",
    "\n",
    "# Combine the foreground and background\n",
    "final = cv2.add(fg, bg)\n",
    "\n",
    "# Concatenate the original frame and the final output side by side/\"\"online find\"\"\n",
    "combined = np.hstack((frame, final))\n",
    "\n",
    "cv2.imshow(\"Original and edited\", combined)\n",
    "cv2.waitKey(0)\n",
    "cv2.destroyAllWindows()"
   ]
  },
  {
   "cell_type": "code",
   "execution_count": null,
   "metadata": {},
   "outputs": [],
   "source": []
  }
 ],
 "metadata": {
  "kernelspec": {
   "display_name": "Python 3",
   "language": "python",
   "name": "python3"
  },
  "language_info": {
   "codemirror_mode": {
    "name": "ipython",
    "version": 3
   },
   "file_extension": ".py",
   "mimetype": "text/x-python",
   "name": "python",
   "nbconvert_exporter": "python",
   "pygments_lexer": "ipython3",
   "version": "3.11.9"
  }
 },
 "nbformat": 4,
 "nbformat_minor": 2
}
