{
 "cells": [
  {
   "cell_type": "markdown",
   "id": "5dcb56da-69d3-4d96-a5bf-6cbeada68764",
   "metadata": {},
   "source": [
    "# Task-1"
   ]
  },
  {
   "cell_type": "code",
   "execution_count": 142,
   "id": "365c3a2d-25d2-4039-a10e-d5153a673b19",
   "metadata": {},
   "outputs": [],
   "source": [
    "import cv2"
   ]
  },
  {
   "cell_type": "code",
   "execution_count": 150,
   "id": "2ad783ae-118e-4823-8aa4-7ef6f2d671bc",
   "metadata": {},
   "outputs": [],
   "source": [
    "img = cv2.imread(\"./images/edp.jpg\")\n",
    "img2 = cv2.imread(r\"C:\\Users\\Student\\Desktop\\cj.webp\")"
   ]
  },
  {
   "cell_type": "code",
   "execution_count": null,
   "id": "2bc53f1b-acf0-42b6-9e25-ee89d6bb4250",
   "metadata": {},
   "outputs": [],
   "source": [
    "#img_gray_mode = cv2.imread(\"./images/edp.jpg\", cv2.IMREAD_GRAYSCALE)"
   ]
  },
  {
   "cell_type": "markdown",
   "id": "349b7c65-a9c5-4035-8c2f-fb9b0274e321",
   "metadata": {},
   "source": [
    "# Task-2"
   ]
  },
  {
   "cell_type": "code",
   "execution_count": 169,
   "id": "cfc7c728-9aaf-40a8-88a9-c80f3575f23e",
   "metadata": {},
   "outputs": [
    {
     "name": "stdout",
     "output_type": "stream",
     "text": [
      "172800\n"
     ]
    }
   ],
   "source": [
    "print (img.size)"
   ]
  },
  {
   "cell_type": "code",
   "execution_count": 171,
   "id": "c154d69f-237f-4e9e-a7ae-85a66fa09f82",
   "metadata": {},
   "outputs": [
    {
     "name": "stdout",
     "output_type": "stream",
     "text": [
      "uint8\n"
     ]
    }
   ],
   "source": [
    "print( img.dtype )"
   ]
  },
  {
   "cell_type": "code",
   "execution_count": 173,
   "id": "9d3066f1-7b6f-44de-a89b-c88efa7d07af",
   "metadata": {},
   "outputs": [
    {
     "name": "stdout",
     "output_type": "stream",
     "text": [
      "(240, 240, 3)\n"
     ]
    }
   ],
   "source": [
    "print (img.shape)"
   ]
  },
  {
   "cell_type": "code",
   "execution_count": 175,
   "id": "270f2ea8-7791-429d-b75d-ad18243d1299",
   "metadata": {},
   "outputs": [],
   "source": [
    "width,height,channel =img.shape"
   ]
  },
  {
   "cell_type": "code",
   "execution_count": 177,
   "id": "00f649df-da1d-4172-8f44-8acab1f28013",
   "metadata": {},
   "outputs": [
    {
     "name": "stdout",
     "output_type": "stream",
     "text": [
      "The width is : 240 \n",
      "The hight is: 240 \n",
      "The number of channels: 3 \n"
     ]
    }
   ],
   "source": [
    "print(f\"The width is : {width} \\nThe hight is: {height} \\nThe number of channels: {channel} \")"
   ]
  },
  {
   "cell_type": "markdown",
   "id": "8da3544f-69c4-45fd-a67b-b106406cf120",
   "metadata": {},
   "source": [
    "# Task-3"
   ]
  },
  {
   "cell_type": "code",
   "execution_count": 179,
   "id": "5b189337-b6b9-4044-8ecb-9599bbf4d0be",
   "metadata": {},
   "outputs": [],
   "source": [
    "cv2.imshow(\"image\", img)\n",
    "cv2.waitKey(0)\n",
    "cv2.destroyAllWindows()"
   ]
  },
  {
   "cell_type": "markdown",
   "id": "f02bd3d0-8ca7-4887-8d68-2437c42d4be0",
   "metadata": {},
   "source": [
    "# Task-6\n"
   ]
  },
  {
   "cell_type": "code",
   "execution_count": 180,
   "id": "7ba45cd0-bbc9-4f05-996d-2b4298a29f15",
   "metadata": {},
   "outputs": [],
   "source": [
    "B, G, R = cv2.split(img)"
   ]
  },
  {
   "cell_type": "code",
   "execution_count": 187,
   "id": "fc4c0764-f087-47fc-883f-23964b6c8d01",
   "metadata": {},
   "outputs": [],
   "source": [
    "cv2.imshow('Red Channel', R)\n",
    "cv2.imshow('Green Channel', G)\n",
    "cv2.imshow('Blue Channel', B)\n",
    "\n",
    "cv2.waitKey(0)\n",
    "cv2.destroyAllWindows()"
   ]
  },
  {
   "cell_type": "markdown",
   "id": "7dd988f6-a5f8-4a37-8f14-9bf7f045a66e",
   "metadata": {},
   "source": [
    "# Task-5"
   ]
  },
  {
   "cell_type": "code",
   "execution_count": 190,
   "id": "0d9ce12b-c2e0-4393-a659-47053ad16d19",
   "metadata": {},
   "outputs": [],
   "source": [
    "from sklearn import datasets\n",
    "\n",
    "iris = datasets.load_iris()"
   ]
  },
  {
   "cell_type": "code",
   "execution_count": 194,
   "id": "10adb4b6-4762-4bf7-b01b-b6d91a3173ee",
   "metadata": {},
   "outputs": [
    {
     "name": "stdout",
     "output_type": "stream",
     "text": [
      ".. _iris_dataset:\n",
      "\n",
      "Iris plants dataset\n",
      "--------------------\n",
      "\n",
      "**Data Set Characteristics:**\n",
      "\n",
      ":Number of Instances: 150 (50 in each of three classes)\n",
      ":Number of Attributes: 4 numeric, predictive attributes and the class\n",
      ":Attribute Information:\n",
      "    - sepal length in cm\n",
      "    - sepal width in cm\n",
      "    - petal length in cm\n",
      "    - petal width in cm\n",
      "    - class:\n",
      "            - Iris-Setosa\n",
      "            - Iris-Versicolour\n",
      "            - Iris-Virginica\n",
      "\n",
      ":Summary Statistics:\n",
      "\n",
      "============== ==== ==== ======= ===== ====================\n",
      "                Min  Max   Mean    SD   Class Correlation\n",
      "============== ==== ==== ======= ===== ====================\n",
      "sepal length:   4.3  7.9   5.84   0.83    0.7826\n",
      "sepal width:    2.0  4.4   3.05   0.43   -0.4194\n",
      "petal length:   1.0  6.9   3.76   1.76    0.9490  (high!)\n",
      "petal width:    0.1  2.5   1.20   0.76    0.9565  (high!)\n",
      "============== ==== ==== ======= ===== ====================\n",
      "\n",
      ":Missing Attribute Values: None\n",
      ":Class Distribution: 33.3% for each of 3 classes.\n",
      ":Creator: R.A. Fisher\n",
      ":Donor: Michael Marshall (MARSHALL%PLU@io.arc.nasa.gov)\n",
      ":Date: July, 1988\n",
      "\n",
      "The famous Iris database, first used by Sir R.A. Fisher. The dataset is taken\n",
      "from Fisher's paper. Note that it's the same as in R, but not as in the UCI\n",
      "Machine Learning Repository, which has two wrong data points.\n",
      "\n",
      "This is perhaps the best known database to be found in the\n",
      "pattern recognition literature.  Fisher's paper is a classic in the field and\n",
      "is referenced frequently to this day.  (See Duda & Hart, for example.)  The\n",
      "data set contains 3 classes of 50 instances each, where each class refers to a\n",
      "type of iris plant.  One class is linearly separable from the other 2; the\n",
      "latter are NOT linearly separable from each other.\n",
      "\n",
      "|details-start|\n",
      "**References**\n",
      "|details-split|\n",
      "\n",
      "- Fisher, R.A. \"The use of multiple measurements in taxonomic problems\"\n",
      "  Annual Eugenics, 7, Part II, 179-188 (1936); also in \"Contributions to\n",
      "  Mathematical Statistics\" (John Wiley, NY, 1950).\n",
      "- Duda, R.O., & Hart, P.E. (1973) Pattern Classification and Scene Analysis.\n",
      "  (Q327.D83) John Wiley & Sons.  ISBN 0-471-22361-1.  See page 218.\n",
      "- Dasarathy, B.V. (1980) \"Nosing Around the Neighborhood: A New System\n",
      "  Structure and Classification Rule for Recognition in Partially Exposed\n",
      "  Environments\".  IEEE Transactions on Pattern Analysis and Machine\n",
      "  Intelligence, Vol. PAMI-2, No. 1, 67-71.\n",
      "- Gates, G.W. (1972) \"The Reduced Nearest Neighbor Rule\".  IEEE Transactions\n",
      "  on Information Theory, May 1972, 431-433.\n",
      "- See also: 1988 MLC Proceedings, 54-64.  Cheeseman et al\"s AUTOCLASS II\n",
      "  conceptual clustering system finds 3 classes in the data.\n",
      "- Many, many more ...\n",
      "\n",
      "|details-end|\n",
      "\n"
     ]
    }
   ],
   "source": [
    "print(iris.DESCR)"
   ]
  },
  {
   "cell_type": "code",
   "execution_count": null,
   "id": "f9dfb560-3f8c-4336-aa78-7a9091ea9ca9",
   "metadata": {},
   "outputs": [],
   "source": []
  }
 ],
 "metadata": {
  "kernelspec": {
   "display_name": "Python 3 (ipykernel)",
   "language": "python",
   "name": "python3"
  },
  "language_info": {
   "codemirror_mode": {
    "name": "ipython",
    "version": 3
   },
   "file_extension": ".py",
   "mimetype": "text/x-python",
   "name": "python",
   "nbconvert_exporter": "python",
   "pygments_lexer": "ipython3",
   "version": "3.12.4"
  }
 },
 "nbformat": 4,
 "nbformat_minor": 5
}
